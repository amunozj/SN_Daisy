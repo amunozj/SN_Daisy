{
 "cells": [
  {
   "cell_type": "markdown",
   "metadata": {
    "deletable": true,
    "editable": true
   },
   "source": [
    "## Setup"
   ]
  },
  {
   "cell_type": "code",
   "execution_count": 1,
   "metadata": {
    "collapsed": true,
    "deletable": true,
    "editable": true
   },
   "outputs": [],
   "source": [
    "import scipy as sp\n",
    "from scipy import sparse\n",
    "import matplotlib.pyplot as plt\n",
    "import pandas as pd \n",
    "import time\n",
    "import datetime\n",
    "import calendar\n",
    "import networkx as nx"
   ]
  },
  {
   "cell_type": "markdown",
   "metadata": {
    "deletable": true,
    "editable": true
   },
   "source": [
    "## Reading Observations and Observers\n",
    "\n",
    "The files used were downloaded from [SILSO's Group Number page](http://www.sidc.be/silso/groupnumberv3).  The current version used is JV_V1-12, but turned into a .csv file.  The original file contains leap years that should not be there, which were removed by hand (1700, 1800, 1900).\n",
    "\n",
    "### Reading Observations\n"
   ]
  },
  {
   "cell_type": "code",
   "execution_count": null,
   "metadata": {
    "collapsed": false,
    "deletable": true,
    "editable": true
   },
   "outputs": [],
   "source": [
    "GN_Dat = pd.read_csv('GNObservations_JV_V1-12.csv', quotechar = '\"', encoding = 'ansi',header = 15)"
   ]
  },
  {
   "cell_type": "markdown",
   "metadata": {
    "deletable": true,
    "editable": true
   },
   "source": [
    "We add two more columns to the data:\n",
    "    1. ORDINAL:  number of days after (0001,01,01).\n",
    "    2. FRACYEAR: Fractional year for plotting."
   ]
  },
  {
   "cell_type": "code",
   "execution_count": null,
   "metadata": {
    "collapsed": false,
    "deletable": true,
    "editable": true
   },
   "outputs": [],
   "source": [
    "GN_Dat['ORDINAL'] = GN_Dat.apply(lambda x: datetime.date(x['YEAR'],x['MONTH'],x['DAY']).toordinal(),axis=1)\n",
    "GN_Dat['FRACYEAR'] = GN_Dat.apply(lambda x: x['YEAR']\n",
    "                                            + (  datetime.date(x['YEAR'],x['MONTH'],x['DAY']).toordinal()\n",
    "                                               - datetime.date(x['YEAR'],1,1).toordinal() )\n",
    "                                            / (  datetime.date(x['YEAR']+1,1,1).toordinal()\n",
    "                                               - datetime.date(x['YEAR'],1,1).toordinal() )\n",
    "                                  ,axis=1)\n",
    "print(GN_Dat)"
   ]
  },
  {
   "cell_type": "markdown",
   "metadata": {
    "collapsed": true,
    "deletable": true,
    "editable": true
   },
   "source": [
    "### Reading Observers"
   ]
  },
  {
   "cell_type": "code",
   "execution_count": null,
   "metadata": {
    "collapsed": false,
    "deletable": true,
    "editable": true
   },
   "outputs": [],
   "source": [
    "GN_Obs = pd.read_csv('GNObservers_JV_V1-12.csv', quotechar = '\"', encoding = 'ansi')\n",
    "print(GN_Obs)"
   ]
  },
  {
   "cell_type": "markdown",
   "metadata": {
    "collapsed": false,
    "deletable": true,
    "editable": true
   },
   "source": [
    "## Pre-allocating Variables\n",
    "\n",
    "We create a variable to store each unique observer.  **NOTE THAT CURRENTLY EACH STATION HAS _ONLY_ ONE OBSERVER SO WE DO ALL OUR LOGICAL OPERATIONS USING THE 'STATION' FIELD**.\n",
    "\n",
    "We also remove the '0' station which indicates a day without observations."
   ]
  },
  {
   "cell_type": "code",
   "execution_count": null,
   "metadata": {
    "collapsed": false,
    "deletable": true,
    "editable": true
   },
   "outputs": [],
   "source": [
    "UnObs = sp.unique(GN_Dat.STATION)\n",
    "UnObs = UnObs[UnObs>0]"
   ]
  },
  {
   "cell_type": "markdown",
   "metadata": {
    "deletable": true,
    "editable": true
   },
   "source": [
    "And create empty sparse connectivity matrices that will be used to define the properties of the observation network"
   ]
  },
  {
   "cell_type": "code",
   "execution_count": null,
   "metadata": {
    "collapsed": false,
    "deletable": true,
    "editable": true
   },
   "outputs": [],
   "source": [
    "#Number of days of overlap\n",
    "LnkDays = sp.sparse.lil_matrix((UnObs.shape[0], UnObs.shape[0]))"
   ]
  },
  {
   "cell_type": "markdown",
   "metadata": {
    "deletable": true,
    "editable": true
   },
   "source": [
    "### Day adjacency tolerance\n",
    "\n",
    "Since the amount of groups visible in the Sun don't change radically from day to day, we specify a window of tolerance in which two observations are considered to be _\"simultaneous\"_.  First priority is given to observations taken on the same calendar date, then to observations within one day are considered, then within two days, and so on until reaching the size of the tolerance window.  The process is ran simultaneously for prior and following days."
   ]
  },
  {
   "cell_type": "code",
   "execution_count": null,
   "metadata": {
    "collapsed": false,
    "deletable": true,
    "editable": true
   },
   "outputs": [],
   "source": [
    "DayTol = 2"
   ]
  },
  {
   "cell_type": "markdown",
   "metadata": {
    "deletable": true,
    "editable": true
   },
   "source": [
    "### Minimum days of overlap\n",
    "\n",
    "In order to establish a link between two observers in the network, we require to have minimum amount of days of overlap (considering as overlapping days days within DayTol of each other)."
   ]
  },
  {
   "cell_type": "code",
   "execution_count": null,
   "metadata": {
    "collapsed": false,
    "deletable": true,
    "editable": true
   },
   "outputs": [],
   "source": [
    "MinOvr = 10;"
   ]
  },
  {
   "cell_type": "markdown",
   "metadata": {
    "deletable": true,
    "editable": true
   },
   "source": [
    "## Creating the adjacency matrix\n",
    "\n",
    "Now we go through all observers **_(stations)_** executing the following algorithm:\n",
    "\n",
    "1. Pick an observer _(station)_.\n",
    "2. Find all observers _(stations)_ that have overlapping observations within DayTol.\n",
    "3. Go through all overlaping observers _(stations)_ and define the adjacency matrices."
   ]
  },
  {
   "cell_type": "code",
   "execution_count": null,
   "metadata": {
    "collapsed": false,
    "deletable": true,
    "editable": true,
    "scrolled": true
   },
   "outputs": [],
   "source": [
    "for iObs1 in range(UnObs.shape[0]):\n",
    "\n",
    "    #---------------------\n",
    "    # 1. Pick an observer    \n",
    "    #---------------------\n",
    "    \n",
    "    Obs1 = GN_Dat[GN_Dat.STATION == UnObs[iObs1]]\n",
    "\n",
    "    # Create an array of valid date of observations including +/- DayTol\n",
    "    DatObs1 = Obs1.ORDINAL\n",
    "    TmpList = DatObs1\n",
    "    for iDat in range(DayTol):\n",
    "        TmpList = pd.concat([TmpList,DatObs1 + iDat + 1])\n",
    "        TmpList = pd.concat([TmpList,DatObs1 - iDat - 1])    \n",
    "    DatObs1 = sp.unique(TmpList)\n",
    "\n",
    "    \n",
    "    #---------------------\n",
    "    # 2. Find all observers that have overlapping observations within DayTol\n",
    "    #---------------------\n",
    "    \n",
    "    ObsOvrlp = sp.in1d(GN_Dat.ORDINAL, DatObs1)\n",
    "    ObsOvrlp = sp.unique(GN_Dat.STATION[ObsOvrlp])\n",
    "    ObsOvrlp = ObsOvrlp[sp.logical_and(ObsOvrlp != 0, ObsOvrlp != UnObs[iObs1])]\n",
    "    \n",
    "    \n",
    "    #---------------------\n",
    "    # 3. Go through all overlaping observers and define the adjacency matrices.\n",
    "    #---------------------\n",
    "    \n",
    "    for iObsOvrlp in range(ObsOvrlp.shape[0]):\n",
    "        \n",
    "        #Determine the overlapping observer\n",
    "        iObs2 = (UnObs==ObsOvrlp[iObsOvrlp]).nonzero()\n",
    "        Obs2 = GN_Dat[GN_Dat.STATION == ObsOvrlp[iObsOvrlp]]\n",
    "        DatObs2 = Obs2.ORDINAL\n",
    "        \n",
    "        #Find the dates in common (including days within DayTol)\n",
    "        DatIntrsct = sp.intersect1d(DatObs1,DatObs2)\n",
    "        \n",
    "        #Fill the days of overlap adjacency matrix\n",
    "        if DatIntrsct.shape[0] >= MinOvr:\n",
    "            LnkDays[iObs1,iObs2] = DatIntrsct.shape[0]"
   ]
  },
  {
   "cell_type": "markdown",
   "metadata": {
    "deletable": true,
    "editable": true
   },
   "source": [
    "## Creating and plotting graph network"
   ]
  },
  {
   "cell_type": "code",
   "execution_count": null,
   "metadata": {
    "collapsed": false,
    "deletable": true,
    "editable": true
   },
   "outputs": [],
   "source": [
    "ObsNtwrk = nx.from_scipy_sparse_matrix(LnkDays)\n",
    "plt.figure(figsize=(8,8))\n",
    "nx.draw_networkx_edges(ObsNtwrk,pos,nodelist=[ncenter],alpha=0.4)\n"
   ]
  },
  {
   "cell_type": "code",
   "execution_count": null,
   "metadata": {
    "collapsed": true,
    "deletable": true,
    "editable": true
   },
   "outputs": [],
   "source": []
  }
 ],
 "metadata": {
  "kernelspec": {
   "display_name": "Python 3",
   "language": "python",
   "name": "python3"
  },
  "language_info": {
   "codemirror_mode": {
    "name": "ipython",
    "version": 3
   },
   "file_extension": ".py",
   "mimetype": "text/x-python",
   "name": "python",
   "nbconvert_exporter": "python",
   "pygments_lexer": "ipython3",
   "version": "3.6.0"
  }
 },
 "nbformat": 4,
 "nbformat_minor": 2
}
